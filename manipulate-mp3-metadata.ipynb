{
 "cells": [
  {
   "cell_type": "markdown",
   "metadata": {},
   "source": [
    "# Edit mp3 metadata\n",
    "Have you run into this problem? You have been collecting mp3 music since age old days and have been categorizing them in good old folders. However, some applications (I am looking at you iOS, your car's mp3 player) no longer understand folders as a classification scheme. Instead, they expect you to have them in playlists, by albums or genre.\n",
    "\n",
    "This notebook/script attempts to use `mp3_tagger` library to read and edit the metadata. I read the folder name and apply that as the `genre` field.\n",
    "\n",
    "Happy listening.. oh, if you want to install the library, get it from [https://pypi.org/project/mp3-tagger/](https://pypi.org/project/mp3-tagger/)"
   ]
  },
  {
   "cell_type": "code",
   "execution_count": 2,
   "metadata": {},
   "outputs": [],
   "source": [
    "import os\n",
    "import fnmatch\n",
    "from mp3_tagger import MP3File, VERSION_1, VERSION_2, VERSION_BOTH"
   ]
  },
  {
   "cell_type": "code",
   "execution_count": null,
   "metadata": {
    "collapsed": true
   },
   "outputs": [],
   "source": [
    "data_root = '/Volumes/NO NAME/'\n",
    "for directory, subdir_list, file_list in os.walk(data_root):\n",
    "    for file in file_list:\n",
    "        if '.mp3' in file:\n",
    "            print(directory + \"/\" + file, end = \" # \")\n",
    "            \n",
    "            # edit genre data\n",
    "            try:\n",
    "                mp3 = MP3File(directory + \"/\" + file)\n",
    "                mp3.set_version(VERSION_2)\n",
    "                mp3.genre = os.path.split(directory)[-1]\n",
    "                mp3.save()\n",
    "                print('done')\n",
    "            except:\n",
    "                print('    Failed ')\n",
    "                continue\n",
    "                \n",
    "        elif '._' in file:\n",
    "            os.remove(directory + \"/\" + file)"
   ]
  },
  {
   "cell_type": "markdown",
   "metadata": {},
   "source": [
    "### Rough - example usage"
   ]
  },
  {
   "cell_type": "code",
   "execution_count": 22,
   "metadata": {},
   "outputs": [
    {
     "data": {
      "text/plain": [
       "{'album': 'Meet the Vamps\\x00',\n",
       " 'artist': 'The Vamps',\n",
       " 'comment': '\\ufeffFarsKids.Com',\n",
       " 'genre': 'western',\n",
       " 'song': 'Last Night',\n",
       " 'year': '2014'}"
      ]
     },
     "execution_count": 22,
     "metadata": {},
     "output_type": "execute_result"
    }
   ],
   "source": [
    "mp3 = MP3File(music_file)\n",
    "mp3.get_tags()"
   ]
  },
  {
   "cell_type": "code",
   "execution_count": 20,
   "metadata": {},
   "outputs": [
    {
     "data": {
      "text/plain": [
       "{'album': 'Meet the Vamps\\x00',\n",
       " 'artist': 'The Vamps',\n",
       " 'comment': '\\ufeffFarsKids.Com',\n",
       " 'genre': 'Persian',\n",
       " 'song': 'Last Night',\n",
       " 'year': '2014'}"
      ]
     },
     "execution_count": 20,
     "metadata": {},
     "output_type": "execute_result"
    }
   ],
   "source": [
    "mp3.get_tags()"
   ]
  },
  {
   "cell_type": "code",
   "execution_count": 21,
   "metadata": {},
   "outputs": [],
   "source": [
    "mp3.set_version(VERSION_2)\n",
    "mp3.genre = 'western'\n",
    "mp3.save()"
   ]
  },
  {
   "cell_type": "code",
   "execution_count": 24,
   "metadata": {},
   "outputs": [
    {
     "data": {
      "text/plain": [
       "'western'"
      ]
     },
     "execution_count": 24,
     "metadata": {},
     "output_type": "execute_result"
    }
   ],
   "source": [
    "os.path.split('/Volumes/NO NAME/western')[-1]"
   ]
  },
  {
   "cell_type": "code",
   "execution_count": null,
   "metadata": {
    "collapsed": true
   },
   "outputs": [],
   "source": []
  }
 ],
 "metadata": {
  "kernelspec": {
   "display_name": "Python 3",
   "language": "python",
   "name": "python3"
  },
  "language_info": {
   "codemirror_mode": {
    "name": "ipython",
    "version": 3
   },
   "file_extension": ".py",
   "mimetype": "text/x-python",
   "name": "python",
   "nbconvert_exporter": "python",
   "pygments_lexer": "ipython3",
   "version": "3.6.2"
  }
 },
 "nbformat": 4,
 "nbformat_minor": 2
}
